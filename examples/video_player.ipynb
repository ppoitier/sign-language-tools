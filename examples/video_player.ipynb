{
 "cells": [
  {
   "cell_type": "code",
   "execution_count": 5,
   "metadata": {},
   "outputs": [],
   "source": [
    "import sys\n",
    "from os.path import dirname\n",
    "\n",
    "sys.path.append(dirname(\"../src/sign_language_tools\"))\n",
    "\n",
    "dataset_root = \"/home/jeromefink/Documents/unamur/signLanguage/Data/lsfb_cont/\""
   ]
  },
  {
   "cell_type": "code",
   "execution_count": 6,
   "metadata": {},
   "outputs": [],
   "source": [
    "from sign_language_tools.visualization.video.video_player import VideoPlayer\n",
    "\n",
    "# Creating a video player\n",
    "player = VideoPlayer(root= dataset_root, screenshot_dir = \"../screenshots\", fps=50)\n",
    "\n"
   ]
  }
 ],
 "metadata": {
  "kernelspec": {
   "display_name": "Python 3 (ipykernel)",
   "language": "python",
   "name": "python3"
  },
  "language_info": {
   "codemirror_mode": {
    "name": "ipython",
    "version": 3
   },
   "file_extension": ".py",
   "mimetype": "text/x-python",
   "name": "python",
   "nbconvert_exporter": "python",
   "pygments_lexer": "ipython3",
   "version": "3.10.12"
  }
 },
 "nbformat": 4,
 "nbformat_minor": 4
}
